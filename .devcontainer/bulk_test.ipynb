{
 "cells": [
  {
   "cell_type": "code",
   "execution_count": 1,
   "metadata": {},
   "outputs": [
    {
     "name": "stdout",
     "output_type": "stream",
     "text": [
      "Collecting faker\n",
      "  Downloading Faker-27.0.0-py3-none-any.whl.metadata (15 kB)\n",
      "Requirement already satisfied: python-dateutil>=2.4 in ./.venv/lib/python3.10/site-packages (from faker) (2.9.0.post0)\n",
      "Requirement already satisfied: six>=1.5 in ./.venv/lib/python3.10/site-packages (from python-dateutil>=2.4->faker) (1.16.0)\n",
      "Downloading Faker-27.0.0-py3-none-any.whl (1.8 MB)\n",
      "\u001b[2K   \u001b[90m━━━━━━━━━━━━━━━━━━━━━━━━━━━━━━━━━━━━━━━━\u001b[0m \u001b[32m1.8/1.8 MB\u001b[0m \u001b[31m21.1 MB/s\u001b[0m eta \u001b[36m0:00:00\u001b[0m\n",
      "\u001b[?25hInstalling collected packages: faker\n",
      "Successfully installed faker-27.0.0\n",
      "Note: you may need to restart the kernel to use updated packages.\n",
      "Collecting requests\n",
      "  Downloading requests-2.32.3-py3-none-any.whl.metadata (4.6 kB)\n",
      "Collecting charset-normalizer<4,>=2 (from requests)\n",
      "  Downloading charset_normalizer-3.3.2-cp310-cp310-manylinux_2_17_x86_64.manylinux2014_x86_64.whl.metadata (33 kB)\n",
      "Collecting idna<4,>=2.5 (from requests)\n",
      "  Downloading idna-3.7-py3-none-any.whl.metadata (9.9 kB)\n",
      "Collecting urllib3<3,>=1.21.1 (from requests)\n",
      "  Downloading urllib3-2.2.2-py3-none-any.whl.metadata (6.4 kB)\n",
      "Collecting certifi>=2017.4.17 (from requests)\n",
      "  Downloading certifi-2024.7.4-py3-none-any.whl.metadata (2.2 kB)\n",
      "Downloading requests-2.32.3-py3-none-any.whl (64 kB)\n",
      "Downloading certifi-2024.7.4-py3-none-any.whl (162 kB)\n",
      "Downloading charset_normalizer-3.3.2-cp310-cp310-manylinux_2_17_x86_64.manylinux2014_x86_64.whl (142 kB)\n",
      "Downloading idna-3.7-py3-none-any.whl (66 kB)\n",
      "Downloading urllib3-2.2.2-py3-none-any.whl (121 kB)\n",
      "Installing collected packages: urllib3, idna, charset-normalizer, certifi, requests\n",
      "Successfully installed certifi-2024.7.4 charset-normalizer-3.3.2 idna-3.7 requests-2.32.3 urllib3-2.2.2\n",
      "Note: you may need to restart the kernel to use updated packages.\n"
     ]
    }
   ],
   "source": [
    "%pip install faker\n",
    "%pip install requests"
   ]
  },
  {
   "cell_type": "code",
   "execution_count": 2,
   "metadata": {},
   "outputs": [
    {
     "name": "stdout",
     "output_type": "stream",
     "text": [
      "Status Code: 200, Response: {'status': 'Success', 'message': 'Booking confirmed and processed.', 'bookingId': '968e310c-1da1-48e7-9057-9113dbb14917', 'customerName': 'Denise Nelson', 'flightNumber': 'OS515'}\n",
      "Status Code: 200, Response: {'status': 'Success', 'message': 'Booking confirmed and processed.', 'bookingId': 'fc689c04-92ac-475d-ab36-a0d5148f4a30', 'customerName': 'Glen Lawson', 'flightNumber': 'ZH981'}\n",
      "Status Code: 200, Response: {'status': 'Success', 'message': 'Booking confirmed and processed.', 'bookingId': 'dc514c0d-c80d-42e0-9cf6-491c7a934c5b', 'customerName': 'Cynthia Johnson', 'flightNumber': 'DC518'}\n",
      "Status Code: 200, Response: {'status': 'Success', 'message': 'Booking confirmed and processed.', 'bookingId': '96ec2afa-5bce-48c6-ad2f-1b608d0aef11', 'customerName': 'Megan Dorsey', 'flightNumber': 'EB858'}\n",
      "Status Code: 200, Response: {'status': 'Success', 'message': 'Booking confirmed and processed.', 'bookingId': 'd7f29433-871d-4e67-8607-26d26043e226', 'customerName': 'Janice Black', 'flightNumber': 'BP282'}\n",
      "Status Code: 200, Response: {'status': 'Success', 'message': 'Booking confirmed and processed.', 'bookingId': '3e67ceec-1748-45ed-a43e-38218dcd04b6', 'customerName': 'Amanda Rubio', 'flightNumber': 'GR777'}\n",
      "Status Code: 200, Response: {'status': 'Success', 'message': 'Booking confirmed and processed.', 'bookingId': '910d213d-eda9-4eda-858b-dafa94526e9b', 'customerName': 'Richard Gonzalez', 'flightNumber': 'JM169'}\n",
      "Status Code: 200, Response: {'status': 'Success', 'message': 'Booking confirmed and processed.', 'bookingId': '2a150e4c-88a5-48de-aa01-51d7c0df0783', 'customerName': 'Kathryn Matthews', 'flightNumber': 'DV529'}\n",
      "Status Code: 200, Response: {'status': 'Success', 'message': 'Booking confirmed and processed.', 'bookingId': '8fa68868-ddb1-42a8-85c0-f4e5f61b33ef', 'customerName': 'Andrew Barker', 'flightNumber': 'JN301'}\n",
      "Status Code: 200, Response: {'status': 'Success', 'message': 'Booking confirmed and processed.', 'bookingId': 'ccb6b66c-ca35-4f5a-b727-78f74e5aa6cc', 'customerName': 'David Smith', 'flightNumber': 'OM824'}\n"
     ]
    }
   ],
   "source": [
    "import json\n",
    "import requests\n",
    "from faker import Faker\n",
    "import random\n",
    "\n",
    "# Initialize Faker\n",
    "fake = Faker()\n",
    "\n",
    "# Constants\n",
    "API_ENDPOINT = \"https://ais-apimv2-xpjgamffxfkso.azure-api.net/Booking\"\n",
    "NUMBER_OF_REQUESTS = 10  # Change this value as needed\n",
    "\n",
    "# Function to generate a single mock booking\n",
    "def generate_mock_booking():\n",
    "    return {\n",
    "        \"bookingId\": fake.uuid4(),\n",
    "        \"customerName\": fake.name(),\n",
    "        \"flightNumber\": f\"{fake.random_uppercase_letter()}{fake.random_uppercase_letter()}{random.randint(100, 999)}\",\n",
    "        \"bookingStatus\": \"confirmed\",#random.choice([\"confirmed\", \"pending\", \"cancelled\"]),\n",
    "        \"departureTime\": fake.iso8601(),\n",
    "        \"destination\": fake.city()\n",
    "    }\n",
    "\n",
    "# Function to send a POST request\n",
    "def send_post_request(api_endpoint, data):\n",
    "    headers = {'Content-Type': 'application/json'}\n",
    "    response = requests.post(api_endpoint, headers=headers, json=data)\n",
    "    return response.status_code, response.json()\n",
    "\n",
    "# Main function\n",
    "def main():\n",
    "    # Generate mock bookings\n",
    "    mock_bookings = [generate_mock_booking() for _ in range(NUMBER_OF_REQUESTS)]\n",
    "    \n",
    "    # Send requests and print responses\n",
    "    for data in mock_bookings:\n",
    "        status_code, response_json = send_post_request(API_ENDPOINT, data)\n",
    "        print(f\"Status Code: {status_code}, Response: {response_json}\")\n",
    "\n",
    "if __name__ == \"__main__\":\n",
    "    main()"
   ]
  }
 ],
 "metadata": {
  "kernelspec": {
   "display_name": "Python 3",
   "language": "python",
   "name": "python3"
  },
  "language_info": {
   "codemirror_mode": {
    "name": "ipython",
    "version": 3
   },
   "file_extension": ".py",
   "mimetype": "text/x-python",
   "name": "python",
   "nbconvert_exporter": "python",
   "pygments_lexer": "ipython3",
   "version": "3.10.12"
  }
 },
 "nbformat": 4,
 "nbformat_minor": 2
}
